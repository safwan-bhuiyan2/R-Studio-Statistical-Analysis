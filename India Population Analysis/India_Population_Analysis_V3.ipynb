{
 "cells": [
  {
   "cell_type": "markdown",
   "id": "ee7ab4f2",
   "metadata": {},
   "source": [
    "\n",
    "# 📍 Indian District-Wise Population Change Analysis (2001-2011)\n",
    "\n",
    "## 🚀 Project Overview\n",
    "\n",
    "India's population landscape is incredibly diverse, shaped by urbanization, migration, fertility, and state-level policies. Between 2001 and 2011, significant demographic shifts occurred, making it critical to understand how population growth varied across the country.\n",
    "\n",
    "This project aims to perform an insightful statistical and geospatial analysis of district-level population changes across India using R and Jupyter Notebook.\n",
    "\n",
    "### Project Objectives\n",
    "\n",
    "- Calculate and analyze district-wise population growth rates between 2001 and 2011.\n",
    "- Visualize which districts experienced the highest and lowest growth rates.\n",
    "- Perform clustering to reveal spatial groupings of districts based on growth patterns.\n",
    "- Explore state-wise growth trends to uncover broader regional dynamics.\n",
    "- Provide simple projections for 2021 populations (bonus).\n",
    "- Interpret and summarize key demographic insights for policymakers and stakeholders.\n",
    "\n",
    "By leveraging statistical techniques, clustering algorithms, and interactive maps, this notebook serves as a powerful portfolio project demonstrating both technical and analytical skills.\n"
   ]
  },
  {
   "cell_type": "code",
   "execution_count": null,
   "id": "766a1963",
   "metadata": {},
   "outputs": [],
   "source": [
    "\n",
    "# Load required libraries\n",
    "library(tidyverse)\n",
    "library(ggplot2)\n",
    "library(sf)\n",
    "library(cluster)\n",
    "library(leaflet)\n",
    "library(dendextend)\n"
   ]
  },
  {
   "cell_type": "code",
   "execution_count": null,
   "id": "e8294ca1",
   "metadata": {},
   "outputs": [],
   "source": [
    "\n",
    "# Load dataset\n",
    "data <- read.csv(\"district wise population and centroids.csv\")\n",
    "head(data)\n"
   ]
  },
  {
   "cell_type": "code",
   "execution_count": null,
   "id": "7cc1d53d",
   "metadata": {},
   "outputs": [],
   "source": [
    "\n",
    "# Check for missing values\n",
    "sum(is.na(data))\n",
    "\n",
    "# Calculate population growth percentage\n",
    "data <- data %>%\n",
    "  mutate(Growth_Percent = ((Population.in.2011 - Population.in.2001) / Population.in.2001) * 100)\n"
   ]
  },
  {
   "cell_type": "code",
   "execution_count": null,
   "id": "d7f11576",
   "metadata": {},
   "outputs": [],
   "source": [
    "\n",
    "# Descriptive statistics\n",
    "summary(data$Population.in.2001)\n",
    "summary(data$Population.in.2011)\n",
    "summary(data$Growth_Percent)\n",
    "\n",
    "# Top and Bottom 10 districts\n",
    "top10_growth <- data %>% arrange(desc(Growth_Percent)) %>% head(10)\n",
    "bottom10_growth <- data %>% arrange(Growth_Percent) %>% head(10)\n",
    "\n",
    "top10_growth\n",
    "bottom10_growth\n",
    "\n",
    "# Correlation analysis\n",
    "cor(data$Latitude, data$Growth_Percent)\n",
    "cor(data$Longitude, data$Growth_Percent)\n"
   ]
  },
  {
   "cell_type": "markdown",
   "id": "3a0ee63f",
   "metadata": {},
   "source": [
    "\n",
    "### 📊 Interpretation of Statistical Analysis Results\n",
    "\n",
    "- **Population growth rates varied widely across districts**. Some districts grew rapidly while others had slow or even negative growth.\n",
    "- **High growth districts were not exclusively urban**. Many rapidly growing districts were semi-urban or rural areas with higher fertility rates or inward migration. For example, Malda (West Bengal) had significant growth despite low urbanization.\n",
    "- **Low growth districts were not always rural**. Some established or highly urban districts like Kolkata recorded lower population growth, which may be linked to factors such as lower fertility rates or population saturation.\n",
    "- **Correlation with Latitude and Longitude**:\n",
    "  - The correlation coefficients were close to zero, indicating **no strong linear relationship** between a district's geographical position (north-south or east-west) and its population growth rate.\n",
    "  - This means that **geography alone does not explain population growth**. Demographic factors, socio-economic dynamics, and migration trends have a much greater influence.\n",
    "\n",
    "Overall, this analysis reinforces that population growth patterns in India are influenced by complex factors rather than simple urban-rural or geographic categorizations.\n"
   ]
  },
  {
   "cell_type": "code",
   "execution_count": null,
   "id": "77ef1922",
   "metadata": {},
   "outputs": [],
   "source": [
    "\n",
    "# Bar Plot - Top 10 Growing Districts\n",
    "ggplot(top10_growth, aes(x = reorder(District, Growth_Percent), y = Growth_Percent)) +\n",
    "  geom_bar(stat = \"identity\", fill = \"steelblue\") +\n",
    "  coord_flip() +\n",
    "  labs(title = \"Top 10 Districts by Population Growth\", x = \"District\", y = \"Growth %\") +\n",
    "  theme_minimal()\n",
    "\n",
    "# Bar Plot - Bottom 10 Growing Districts\n",
    "ggplot(bottom10_growth, aes(x = reorder(District, Growth_Percent), y = Growth_Percent)) +\n",
    "  geom_bar(stat = \"identity\", fill = \"tomato\") +\n",
    "  coord_flip() +\n",
    "  labs(title = \"Bottom 10 Districts by Population Growth\", x = \"District\", y = \"Growth %\") +\n",
    "  theme_minimal()\n",
    "\n",
    "# Scatter plot\n",
    "ggplot(data, aes(x = Latitude, y = Growth_Percent)) +\n",
    "  geom_point(color = \"purple\") +\n",
    "  labs(title = \"Population Growth vs Latitude\", x = \"Latitude\", y = \"Growth %\") +\n",
    "  theme_minimal()\n"
   ]
  },
  {
   "cell_type": "code",
   "execution_count": null,
   "id": "5a1bd616",
   "metadata": {},
   "outputs": [],
   "source": [
    "\n",
    "# K-means clustering\n",
    "data$Growth_Scaled <- scale(data$Growth_Percent)\n",
    "set.seed(42)\n",
    "kmeans_result <- kmeans(data$Growth_Scaled, centers = 3)\n",
    "data$Cluster <- as.factor(kmeans_result$cluster)\n",
    "\n",
    "# Visualize clusters\n",
    "ggplot(data, aes(x = Longitude, y = Latitude, color = Cluster)) +\n",
    "  geom_point(size = 3) +\n",
    "  labs(title = \"Spatial Clusters of Districts by Growth Rate\", x = \"Longitude\", y = \"Latitude\") +\n",
    "  theme_minimal()\n"
   ]
  },
  {
   "cell_type": "markdown",
   "id": "ccefaa29",
   "metadata": {},
   "source": [
    "\n",
    "### 📌 Interpretation of Spatial Clustering Results\n",
    "\n",
    "- **Red (Cluster 1)** → Fastest growing districts (urban, economic hubs)\n",
    "- **Green (Cluster 2)** → Moderate growth (semi-urban, stable regions)\n",
    "- **Blue (Cluster 3)** → Low/negative growth (rural or declining regions)\n"
   ]
  },
  {
   "cell_type": "code",
   "execution_count": null,
   "id": "70f187d0",
   "metadata": {},
   "outputs": [],
   "source": [
    "\n",
    "# Fixed Leaflet Map with Cluster Colors\n",
    "cluster_colors <- c(\"1\" = \"red\", \"2\" = \"green\", \"3\" = \"blue\")\n",
    "data$Cluster_Color <- cluster_colors[as.character(data$Cluster)]\n",
    "\n",
    "leaflet(data) %>%\n",
    "  addTiles() %>%\n",
    "  addCircleMarkers(~Longitude, ~Latitude, \n",
    "                   popup = ~paste(\"District:\", District, \"<br>Growth %:\", round(Growth_Percent, 2)),\n",
    "                   color = ~Cluster_Color, radius = 5, fillOpacity = 0.7) %>%\n",
    "  addLegend(\"bottomright\", colors = c(\"red\", \"green\", \"blue\"), \n",
    "            labels = c(\"Cluster 1\", \"Cluster 2\", \"Cluster 3\"), title = \"Clusters\")\n"
   ]
  },
  {
   "cell_type": "markdown",
   "id": "46a9ee52",
   "metadata": {},
   "source": [
    "\n",
    "### 🗺️ Interpretation of Interactive Leaflet Map\n",
    "\n",
    "Explore districts by hovering. Color shows growth rate cluster:\n",
    "\n",
    "- **Red** → Fastest growing districts\n",
    "- **Green** → Moderate growth\n",
    "- **Blue** → Low/negative growth\n"
   ]
  },
  {
   "cell_type": "markdown",
   "id": "cbe54790",
   "metadata": {},
   "source": [
    "\n",
    "## 📍 Additional Analysis: Population Growth by State\n"
   ]
  },
  {
   "cell_type": "code",
   "execution_count": null,
   "id": "06ac98aa",
   "metadata": {},
   "outputs": [],
   "source": [
    "\n",
    "# State-wise Average Growth\n",
    "state_growth <- data %>%\n",
    "  group_by(State) %>%\n",
    "  summarise(Average_Growth_Percent = mean(Growth_Percent, na.rm = TRUE)) %>%\n",
    "  arrange(desc(Average_Growth_Percent))\n",
    "\n",
    "head(state_growth, 10)\n",
    "tail(state_growth, 10)\n",
    "\n",
    "ggplot(state_growth, aes(x = reorder(State, Average_Growth_Percent), y = Average_Growth_Percent)) +\n",
    "  geom_bar(stat = \"identity\", fill = \"darkorange\") +\n",
    "  coord_flip() +\n",
    "  labs(title = \"Average District Population Growth by State (2001-2011)\", x = \"State\", y = \"Average Growth %\") +\n",
    "  theme_minimal()\n"
   ]
  },
  {
   "cell_type": "markdown",
   "id": "18aa9db4",
   "metadata": {},
   "source": [
    "\n",
    "### 📌 Interpretation of State-wise Growth\n",
    "\n",
    "- States with the highest average district growth are not always highly urbanized. Some may be experiencing rapid population increases due to factors like higher birth rates, rural expansion, or internal migration rather than urban economic development alone.\n",
    "- Similarly, lower growth states may not only be rural or facing migration outflows — they could also have stable or aging populations, or lower birth rates.\n",
    "- Population growth at the state level reflects a complex mix of demographics, local migration patterns, fertility rates, and economic factors, not just urbanization.\n",
    "\n",
    "This highlights the importance of avoiding simplistic assumptions and instead looking at state-specific contexts to understand growth patterns.\n"
   ]
  },
  {
   "cell_type": "code",
   "execution_count": null,
   "id": "0ae0a0b0",
   "metadata": {},
   "outputs": [],
   "source": [
    "\n",
    "# Predict population for 2021\n",
    "data <- data %>%\n",
    "  mutate(Population.in.2021 = Population.in.2011 + (Population.in.2011 - Population.in.2001))\n",
    "\n",
    "head(data[,c(\"District\", \"Population.in.2001\", \"Population.in.2011\", \"Population.in.2021\")])\n"
   ]
  },
  {
   "cell_type": "markdown",
   "id": "ff1b9d0c",
   "metadata": {},
   "source": [
    "\n",
    "### 📈 Interpretation of 2021 Prediction\n",
    "\n",
    "Simple linear extrapolation gives indicative estimates. However, it does not consider complex factors like policy or economic changes → treat predictions cautiously.\n"
   ]
  },
  {
   "cell_type": "markdown",
   "id": "c3d10a07",
   "metadata": {},
   "source": [
    "\n",
    "# 📌 Final Conclusion and Insights\n",
    "\n",
    "### 📊 District Level Patterns\n",
    "\n",
    "- **High Growth Districts**: These districts are not universally urban but reflect a mixture of rapidly expanding cities, semi-urban areas undergoing development, and rural regions experiencing natural population increases (e.g., higher birth rates). \n",
    "- **Low Growth or Negative Growth Districts**: Found largely in established or aging urban centers (where birth rates may be low) and remote or rural districts experiencing migration outflows or stagnation.\n",
    "\n",
    "### 🧭 Spatial Clustering Findings\n",
    "\n",
    "- The clustering analysis revealed three distinct groups:\n",
    "  - **Red (High Growth)**: Rapidly expanding regions (urban or natural growth)\n",
    "  - **Green (Moderate Growth)**: Balanced growth districts\n",
    "  - **Blue (Low or Negative Growth)**: Areas requiring further development attention\n",
    "  \n",
    "- These clusters highlight regional disparities that can aid planners in targeting interventions more effectively.\n",
    "\n",
    "### 🏙️ State Level Trends\n",
    "\n",
    "- Contrary to assumptions, higher population growth at the state level was **not necessarily linked to urbanization**.\n",
    "- States such as **Meghalaya** and **Arunachal Pradesh**, which are less urbanized, saw high growth rates due to natural population increases and other socio-demographic factors.\n",
    "- Highly urbanized states like **Kerala** and **Goa** recorded relatively low population growth, showcasing that economic development and urbanization may correlate with slower growth in some cases due to lower fertility rates and aging populations.\n",
    "\n",
    "### 🧹 Forecasting and Limitations\n",
    "\n",
    "- Simple linear extrapolation for 2021 populations provided a rough idea of potential district populations.\n",
    "- However, this method does not account for unpredictable variables such as policy shifts, migration patterns, and economic developments. More advanced models should be used for accurate forecasting.\n",
    "\n",
    "### 📌 Final Takeaways\n",
    "\n",
    "- Population growth is a complex phenomenon shaped by a variety of factors beyond mere geography or urbanization.\n",
    "- This analysis underscores the importance of nuanced, multi-dimensional approaches when examining demographic changes.\n",
    "- By combining descriptive statistics, clustering, and geospatial visualizations, this project offers a robust view of India's evolving population landscape and serves as a valuable tool for future urban planning, policy formulation, and academic research.\n",
    "\n",
    "---\n",
    "\n",
    "This notebook serves as a comprehensive portfolio project that showcases data wrangling, spatial analysis, clustering, and insightful reporting using R in a Jupyter environment.\n"
   ]
  }
 ],
 "metadata": {},
 "nbformat": 4,
 "nbformat_minor": 5
}
